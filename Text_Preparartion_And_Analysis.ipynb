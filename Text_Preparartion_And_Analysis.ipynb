{
 "cells": [
  {
   "cell_type": "code",
   "execution_count": 3,
   "metadata": {},
   "outputs": [
    {
     "name": "stdout",
     "output_type": "stream",
     "text": [
      "Accuracy using Multiclass Logistic Regression: 0.3333333333333333\n",
      "Accuracy using Gaussian Naïve Bayes: 0.27941176470588236\n"
     ]
    }
   ],
   "source": [
    "import pandas as pd\n",
    "from sklearn.model_selection import train_test_split\n",
    "from sklearn.feature_extraction.text import CountVectorizer\n",
    "from sklearn.linear_model import LogisticRegression\n",
    "from sklearn.naive_bayes import GaussianNB\n",
    "from sklearn.metrics import accuracy_score\n",
    "\n",
    "# Load the dataset\n",
    "emotion_data = pd.read_csv(\"DataSet/emotion_recog.csv\")\n",
    "\n",
    "# Preprocess the text data\n",
    "text_content = emotion_data['content']\n",
    "sentiment = emotion_data['sentiment']\n",
    "\n",
    "# Split the data into training and testing sets\n",
    "X_train, X_test, y_train, y_test = train_test_split(text_content, sentiment, test_size=0.2, random_state=42)\n",
    "\n",
    "# Vectorize the text data\n",
    "vectorizer = CountVectorizer()\n",
    "X_train_vect = vectorizer.fit_transform(X_train)\n",
    "X_test_vect = vectorizer.transform(X_test)\n",
    "\n",
    "# Train Multiclass Logistic Regression model\n",
    "logreg_model = LogisticRegression(max_iter=1000)\n",
    "logreg_model.fit(X_train_vect, y_train)\n",
    "\n",
    "# Predict using the Logistic Regression model\n",
    "y_pred_logreg = logreg_model.predict(X_test_vect)\n",
    "\n",
    "# Calculate accuracy for Logistic Regression\n",
    "accuracy_logreg = accuracy_score(y_test, y_pred_logreg)\n",
    "print(\"Accuracy using Multiclass Logistic Regression:\", accuracy_logreg)\n",
    "\n",
    "# Train Gaussian Naïve Bayes model\n",
    "nb_model = GaussianNB()\n",
    "nb_model.fit(X_train_vect.toarray(), y_train)\n",
    "\n",
    "# Predict using the Gaussian Naïve Bayes model\n",
    "y_pred_nb = nb_model.predict(X_test_vect.toarray())\n",
    "\n",
    "# Calculate accuracy for Gaussian Naïve Bayes\n",
    "accuracy_nb = accuracy_score(y_test, y_pred_nb)\n",
    "print(\"Accuracy using Gaussian Naïve Bayes:\", accuracy_nb)\n"
   ]
  },
  {
   "cell_type": "code",
   "execution_count": 4,
   "metadata": {},
   "outputs": [
    {
     "name": "stdout",
     "output_type": "stream",
     "text": [
      "Accuracy using Multiclass Logistic Regression (with Grid Search): 0.45294117647058824\n"
     ]
    }
   ],
   "source": [
    "import pandas as pd\n",
    "from sklearn.model_selection import train_test_split, GridSearchCV\n",
    "from sklearn.feature_extraction.text import CountVectorizer, TfidfTransformer\n",
    "from sklearn.pipeline import Pipeline\n",
    "from sklearn.linear_model import LogisticRegression\n",
    "from sklearn.naive_bayes import GaussianNB\n",
    "from sklearn.metrics import accuracy_score\n",
    "\n",
    "# Load the dataset\n",
    "data = pd.read_csv(\"DataSet/emotion_recog.csv\")\n",
    "\n",
    "# Filter emotions with at least 50 tags\n",
    "filtered_data = data.groupby('sentiment').filter(lambda x: len(x) >= 50)\n",
    "\n",
    "# Preprocess the text data\n",
    "X = filtered_data['content']\n",
    "y = filtered_data['sentiment']\n",
    "\n",
    "# Split the data into training and testing sets\n",
    "X_train, X_test, y_train, y_test = train_test_split(X, y, test_size=0.2, random_state=42)\n",
    "\n",
    "# Define a pipeline for Logistic Regression with text preprocessing\n",
    "logreg_pipeline = Pipeline([\n",
    "    ('vect', CountVectorizer()),\n",
    "    ('tfidf', TfidfTransformer()),\n",
    "    ('clf', LogisticRegression())\n",
    "])\n",
    "\n",
    "# Define parameters for grid search\n",
    "param_grid = {\n",
    "    'vect__ngram_range': [(1, 1), (1, 2)],  # unigrams or bigrams\n",
    "    'tfidf__use_idf': (True, False),\n",
    "    'clf__max_iter': [100, 500, 1000]\n",
    "}\n",
    "\n",
    "# Perform grid search to find the best parameters\n",
    "grid_search = GridSearchCV(logreg_pipeline, param_grid, cv=5)\n",
    "grid_search.fit(X_train, y_train)\n",
    "\n",
    "# Get the best model from grid search\n",
    "best_model = grid_search.best_estimator_\n",
    "\n",
    "# Train the best model\n",
    "best_model.fit(X_train, y_train)\n",
    "\n",
    "# Predict using the best model\n",
    "y_pred = best_model.predict(X_test)\n",
    "\n",
    "# Calculate accuracy for the best model\n",
    "accuracy = accuracy_score(y_test, y_pred)\n",
    "print(\"Accuracy using Multiclass Logistic Regression (with Grid Search):\", accuracy)\n"
   ]
  }
 ],
 "metadata": {
  "kernelspec": {
   "display_name": "Python 3 (ipykernel)",
   "language": "python",
   "name": "python3"
  },
  "language_info": {
   "codemirror_mode": {
    "name": "ipython",
    "version": 3
   },
   "file_extension": ".py",
   "mimetype": "text/x-python",
   "name": "python",
   "nbconvert_exporter": "python",
   "pygments_lexer": "ipython3",
   "version": "3.11.4"
  }
 },
 "nbformat": 4,
 "nbformat_minor": 4
}
