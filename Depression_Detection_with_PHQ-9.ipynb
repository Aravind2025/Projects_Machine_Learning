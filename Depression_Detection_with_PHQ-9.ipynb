{
 "cells": [
  {
   "cell_type": "code",
   "execution_count": 1,
   "metadata": {},
   "outputs": [],
   "source": [
    "import pandas as pd\n",
    "import re\n",
    "from scipy.stats import pearsonr"
   ]
  },
  {
   "cell_type": "code",
   "execution_count": 2,
   "metadata": {},
   "outputs": [],
   "source": [
    "# Read the dataset\n",
    "data = pd.read_csv(\"DataSet/depression_scale_PHQ.csv\")\n"
   ]
  },
  {
   "cell_type": "code",
   "execution_count": 3,
   "metadata": {},
   "outputs": [],
   "source": [
    "# Extract numeric values from scores within parentheses\n",
    "def extracting_score(score_string):\n",
    "    match = re.search(r'\\((\\d+)\\)', score_string)\n",
    "    return int(match.group(1)) if match else 0  # Ternary operator "
   ]
  },
  {
   "cell_type": "code",
   "execution_count": 4,
   "metadata": {},
   "outputs": [],
   "source": [
    "# Convert string scores to numeric values using apply and lambda\n",
    "data[data.columns[9:]] = data[data.columns[9:]].apply(lambda col: col.apply(extracting_score))"
   ]
  },
  {
   "cell_type": "code",
   "execution_count": 5,
   "metadata": {},
   "outputs": [],
   "source": [
    "# Calculate collective PHQ-9 score using sum across columns\n",
    "data['PHQ9_score'] = data.iloc[:, 9:].sum(axis=1)"
   ]
  },
  {
   "cell_type": "code",
   "execution_count": 6,
   "metadata": {},
   "outputs": [],
   "source": [
    "# Classify individuals into different depression states using cut\n",
    "bins = [-1, 4, 9, 14, 19, 27, float('inf')]  # Define bins for depression levels\n",
    "labels = ['No depression', 'Mild depression', 'Moderate depression', 'Moderately severe depression',\n",
    "          'Severe depression', 'Invalid score']\n",
    "data['Depression_state'] = pd.cut(data['PHQ9_score'], bins=bins, labels=labels, right=False)"
   ]
  },
  {
   "cell_type": "code",
   "execution_count": 7,
   "metadata": {},
   "outputs": [],
   "source": [
    "# Count the number of people in each state of depression\n",
    "depression_counts = data['Depression_state'].value_counts()"
   ]
  },
  {
   "cell_type": "code",
   "execution_count": 8,
   "metadata": {},
   "outputs": [],
   "source": [
    "# Convert age range strings to numeric values using map\n",
    "data['Age_midpoint'] = data['Age range in years'].map({'Above 30': 35, '15-30': 22.5})"
   ]
  },
  {
   "cell_type": "code",
   "execution_count": 9,
   "metadata": {},
   "outputs": [],
   "source": [
    "# Calculate correlation coefficient between Age range and PHQ-9 collective score\n",
    "correlation_coefficient, _ = pearsonr(data['Age_midpoint'], data['PHQ9_score'])"
   ]
  },
  {
   "cell_type": "code",
   "execution_count": 10,
   "metadata": {},
   "outputs": [
    {
     "name": "stdout",
     "output_type": "stream",
     "text": [
      "Number of people in each state of depression:\n",
      "Depression_state\n",
      "Mild depression                 279\n",
      "Moderate depression             219\n",
      "Moderately severe depression     88\n",
      "No depression                    70\n",
      "Severe depression                16\n",
      "Invalid score                     0\n",
      "Name: count, dtype: int64\n",
      "\n",
      "Correlation coefficient between Age range and PHQ-9 collective score: 0.00416829313887653\n"
     ]
    }
   ],
   "source": [
    "# Print results\n",
    "print(\"Number of people in each state of depression:\")\n",
    "print(depression_counts)\n",
    "print(\"\\nCorrelation coefficient between Age range and PHQ-9 collective score:\", correlation_coefficient)\n"
   ]
  },
  {
   "cell_type": "code",
   "execution_count": null,
   "metadata": {},
   "outputs": [],
   "source": []
  }
 ],
 "metadata": {
  "kernelspec": {
   "display_name": "Python 3 (ipykernel)",
   "language": "python",
   "name": "python3"
  },
  "language_info": {
   "codemirror_mode": {
    "name": "ipython",
    "version": 3
   },
   "file_extension": ".py",
   "mimetype": "text/x-python",
   "name": "python",
   "nbconvert_exporter": "python",
   "pygments_lexer": "ipython3",
   "version": "3.11.4"
  }
 },
 "nbformat": 4,
 "nbformat_minor": 4
}
