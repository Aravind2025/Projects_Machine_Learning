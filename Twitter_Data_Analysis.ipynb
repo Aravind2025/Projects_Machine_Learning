{
 "cells": [
  {
   "cell_type": "code",
   "execution_count": 1,
   "metadata": {
    "id": "_memsQQP4Vw2"
   },
   "outputs": [],
   "source": [
    "import tweepy\n",
    "from textblob import TextBlob\n"
   ]
  },
  {
   "cell_type": "code",
   "execution_count": 2,
   "metadata": {
    "id": "3jNJEhDm4Vw5"
   },
   "outputs": [],
   "source": [
    "# Twitter API credentials\n",
    "consumer_key = 'Vg5miDQptPuk6MnxQleXi0PpH'\n",
    "consumer_secret = 'DMjs32Qx2wixvsWiVIVKLY0wnYKm8LRunvJ89bEcTzoRTglXga'\n",
    "access_token = '1644947952933412864-3e8UiMwYwX6a3gpnyNnSNWTbalCoo9'\n",
    "access_token_secret = '9Try8A6gHIG6hMxyzUJJG73BtKpffhwGn2ErYOrxM1pUw'"
   ]
  },
  {
   "cell_type": "code",
   "execution_count": 3,
   "metadata": {
    "id": "n-SbyRLc4Vw6"
   },
   "outputs": [],
   "source": [
    "# Authenticate to Twitter API\n",
    "auth = tweepy.OAuthHandler(consumer_key, consumer_secret)\n",
    "auth.set_access_token(access_token, access_token_secret)\n",
    "api = tweepy.API(auth)"
   ]
  },
  {
   "cell_type": "code",
   "execution_count": 4,
   "metadata": {
    "id": "hlpiJm_84Vw6"
   },
   "outputs": [],
   "source": [
    "def fetch_tweets(search_query, num_tweets):\n",
    "    tweets = []\n",
    "    try:\n",
    "        for tweet in tweepy.Cursor(api.search_tweets, q=search_query, tweet_mode='extended').items(num_tweets):\n",
    "            tweets.append(tweet.full_text)\n",
    "    except Exception as error:\n",
    "        print(f\"Error fetching tweets: {error}\")\n",
    "    return tweets"
   ]
  },
  {
   "cell_type": "code",
   "execution_count": 5,
   "metadata": {
    "id": "HJgGsJfU4Vw7"
   },
   "outputs": [],
   "source": [
    "def analyze_sentiment(tweet_data):\n",
    "    positive_count = 0\n",
    "    negative_count = 0\n",
    "    neutral_count = 0\n",
    "\n",
    "    if len(tweet_data) > 0:\n",
    "        for tweet_text in tweet_data:\n",
    "            analysis = TextBlob(tweet_text)\n",
    "            if analysis.sentiment.polarity > 0:\n",
    "                positive_count += 1\n",
    "            elif analysis.sentiment.polarity < 0:\n",
    "                negative_count += 1\n",
    "            else:\n",
    "                neutral_count += 1\n",
    "\n",
    "        total_count = positive_count + negative_count + neutral_count\n",
    "        if total_count > 0:\n",
    "            positive_percentage = (positive_count / total_count) * 100\n",
    "            negative_percentage = (negative_count / total_count) * 100\n",
    "            neutral_percentage = (neutral_count / total_count) * 100\n",
    "            return positive_percentage, negative_percentage, neutral_percentage\n",
    "        else:\n",
    "            print(\"No tweets to analyze.\")\n",
    "            return 0, 0, 0\n",
    "    else:\n",
    "        print(\"No tweet data provided.\")\n",
    "        return 0, 0, 0\n"
   ]
  },
  {
   "cell_type": "code",
   "execution_count": 6,
   "metadata": {
    "colab": {
     "base_uri": "https://localhost:8080/"
    },
    "id": "IQl1y3hb4Vw7",
    "outputId": "98694d74-05d9-401d-ab54-cd9ee2d24e56"
   },
   "outputs": [
    {
     "name": "stdout",
     "output_type": "stream",
     "text": [
      "Error fetching tweets: 403 Forbidden\n",
      "453 - You currently have access to a subset of Twitter API v2 endpoints and limited v1.1 endpoints (e.g. media post, oauth) only. If you need access to this endpoint, you may need a different access level. You can learn more here: https://developer.twitter.com/en/portal/product\n",
      "No tweet data received.\n"
     ]
    }
   ],
   "source": [
    "def main():\n",
    "    search_query = 'Queen Elizabeth II death'\n",
    "    num_tweets = 10\n",
    "    tweet_data = fetch_tweets(search_query, num_tweets)\n",
    "    if tweet_data:\n",
    "        positive_percentage, negative_percentage, neutral_percentage = analyze_sentiment(tweet_data)\n",
    "        print(f\"Positive tweets: {positive_percentage}%\")\n",
    "        print(f\"Negative tweets: {negative_percentage}%\")\n",
    "        print(f\"Neutral tweets: {neutral_percentage}%\")\n",
    "    else:\n",
    "        print(\"No tweet data received.\")\n",
    "\n",
    "if __name__ == \"__main__\":\n",
    "    main()"
   ]
  }
 ],
 "metadata": {
  "colab": {
   "provenance": []
  },
  "kernelspec": {
   "display_name": "Python 3 (ipykernel)",
   "language": "python",
   "name": "python3"
  },
  "language_info": {
   "codemirror_mode": {
    "name": "ipython",
    "version": 3
   },
   "file_extension": ".py",
   "mimetype": "text/x-python",
   "name": "python",
   "nbconvert_exporter": "python",
   "pygments_lexer": "ipython3",
   "version": "3.11.4"
  }
 },
 "nbformat": 4,
 "nbformat_minor": 4
}
