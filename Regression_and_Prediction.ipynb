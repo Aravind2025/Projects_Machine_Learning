{
 "cells": [
  {
   "cell_type": "code",
   "execution_count": 1,
   "metadata": {},
   "outputs": [],
   "source": [
    "import pandas as pd\n",
    "from sklearn.linear_model import LinearRegression\n",
    "from sklearn.model_selection import train_test_split\n",
    "from sklearn.metrics import mean_squared_error\n",
    "import numpy as np"
   ]
  },
  {
   "cell_type": "code",
   "execution_count": 2,
   "metadata": {},
   "outputs": [],
   "source": [
    "# Load datasets\n",
    "temps = pd.read_csv(\"DataSet/Annual_Surface_Temperature_Change.csv\")\n",
    "emissions = pd.read_csv(\"DataSet/Emissions_Country_india.csv\")"
   ]
  },
  {
   "cell_type": "code",
   "execution_count": 3,
   "metadata": {},
   "outputs": [],
   "source": [
    "# Filter data for India\n",
    "indian_temps = temps.query(\"Country == 'India'\")\n",
    "indian_emissions = emissions.query(\"Area == 'India'\")"
   ]
  },
  {
   "cell_type": "code",
   "execution_count": 4,
   "metadata": {},
   "outputs": [],
   "source": [
    "# Reshape temperature data\n",
    "temperature_data = indian_temps.drop(columns=['ObjectId', 'ISO2', 'ISO3', 'Indicator', 'Code', 'Unit', 'Source']).set_index('Country').stack().reset_index()\n",
    "temperature_data.columns = ['Area Code', 'Year', 'Temperature change (Celsius)']"
   ]
  },
  {
   "cell_type": "code",
   "execution_count": 5,
   "metadata": {},
   "outputs": [
    {
     "name": "stdout",
     "output_type": "stream",
     "text": [
      "Index(['Area Code', 'Year', 'Temperature change (Celsius)'], dtype='object')\n"
     ]
    }
   ],
   "source": [
    "# Print the column names to check if 'Year' is present\n",
    "print(temperature_data.columns)"
   ]
  },
  {
   "cell_type": "code",
   "execution_count": 6,
   "metadata": {},
   "outputs": [],
   "source": [
    "# Drop duplicate rows based on 'Year'\n",
    "temperature_data = temperature_data.drop_duplicates(subset=['Year'])"
   ]
  },
  {
   "cell_type": "code",
   "execution_count": 7,
   "metadata": {},
   "outputs": [],
   "source": [
    "# Remove 'F' prefix from the 'Year' column\n",
    "temperature_data['Year'] = temperature_data['Year'].str.replace('F', '').astype(int)"
   ]
  },
  {
   "cell_type": "code",
   "execution_count": 8,
   "metadata": {},
   "outputs": [
    {
     "name": "stdout",
     "output_type": "stream",
     "text": [
      "Correlation between Methane emissions from Rice Production and Temperature change: -0.07417186975542545\n",
      "Mean Squared Error: 0.17059303849539276\n",
      "[0.2888863  0.28886239 0.28883848 0.28881456 0.28879065 0.28876674\n",
      " 0.28874282 0.28871891 0.288695   0.28867108]\n"
     ]
    },
    {
     "name": "stderr",
     "output_type": "stream",
     "text": [
      "/Library/Frameworks/Python.framework/Versions/3.11/lib/python3.11/site-packages/sklearn/base.py:493: UserWarning: X does not have valid feature names, but LinearRegression was fitted with feature names\n",
      "  warnings.warn(\n"
     ]
    }
   ],
   "source": [
    "\n",
    "\n",
    "if 'Year' in temperature_data.columns:\n",
    "    # Set index on emission data\n",
    "    emissions_data = indian_emissions.set_index('Year')\n",
    "\n",
    "    # Merge datasets\n",
    "    merged_data = pd.merge(temperature_data, emissions_data, how='inner', on='Year')\n",
    "\n",
    "    # Filter for Methane emissions from Rice Production\n",
    "    methane_emissions = merged_data[merged_data['Element'] == 'Emissions (CH4)']\n",
    "    methane_emissions = methane_emissions.rename(columns={'Value': 'CH4_Emissions'})\n",
    "\n",
    "    # Correlation analysis\n",
    "    correlation = methane_emissions['CH4_Emissions'].corr(methane_emissions['Temperature change (Celsius)'])\n",
    "    print(\"Correlation between Methane emissions from Rice Production and Temperature change:\", correlation)\n",
    "\n",
    "    # Prepare data for regression\n",
    "    X = methane_emissions[['CH4_Emissions']]\n",
    "    y = methane_emissions['Temperature change (Celsius)']\n",
    "\n",
    "    # Split data into train and test sets\n",
    "    X_train, X_test, y_train, y_test = train_test_split(X, y, test_size=0.4, random_state=42)\n",
    "\n",
    "    # Train regression model\n",
    "    model = LinearRegression()\n",
    "    model.fit(X_train, y_train)\n",
    "\n",
    "    # Predict temperature change for the next 10 years\n",
    "    future_years = np.arange(2022, 2032).reshape(-1, 1)\n",
    "    predicted_temps = model.predict(future_years)\n",
    "\n",
    "    # Evaluate model\n",
    "    y_pred = model.predict(X_test)\n",
    "    mse = mean_squared_error(y_test, y_pred)\n",
    "    print(\"Mean Squared Error:\", mse)\n",
    "\n",
    "    print(predicted_temps)\n",
    "else:\n",
    "    print(\"'Year' column not found in the DataFrame.\")\n"
   ]
  }
 ],
 "metadata": {
  "kernelspec": {
   "display_name": "Python 3 (ipykernel)",
   "language": "python",
   "name": "python3"
  },
  "language_info": {
   "codemirror_mode": {
    "name": "ipython",
    "version": 3
   },
   "file_extension": ".py",
   "mimetype": "text/x-python",
   "name": "python",
   "nbconvert_exporter": "python",
   "pygments_lexer": "ipython3",
   "version": "3.11.4"
  }
 },
 "nbformat": 4,
 "nbformat_minor": 4
}
